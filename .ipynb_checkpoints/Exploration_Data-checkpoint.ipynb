{
 "cells": [
  {
   "cell_type": "markdown",
   "metadata": {},
   "source": [
    "# Ford GoBike System Data Exploration\n",
    "## by Chunan Lin\n",
    "\n",
    "## Preliminary Wrangling\n",
    "\n",
    "> This document explores a dataset containing information about individual rides made in a bike-sharing system covering the greater San Francisco Bay area in 2017"
   ]
  },
  {
   "cell_type": "code",
   "execution_count": 226,
   "metadata": {},
   "outputs": [],
   "source": [
    "# import all packages and set plots to be embedded inline\n",
    "import numpy as np\n",
    "import pandas as pd\n",
    "import matplotlib.pyplot as plt\n",
    "import seaborn as sb\n",
    "\n",
    "%matplotlib inline"
   ]
  },
  {
   "cell_type": "markdown",
   "metadata": {},
   "source": [
    "> Load in your dataset and describe its properties through the questions below.\n",
    "Try and motivate your exploration goals through this section."
   ]
  },
  {
   "cell_type": "code",
   "execution_count": 227,
   "metadata": {
    "scrolled": true
   },
   "outputs": [
    {
     "name": "stdout",
     "output_type": "stream",
     "text": [
      "(519700, 15)\n",
      "duration_sec                 int64\n",
      "start_time                  object\n",
      "end_time                    object\n",
      "start_station_id             int64\n",
      "start_station_name          object\n",
      "start_station_latitude     float64\n",
      "start_station_longitude    float64\n",
      "end_station_id               int64\n",
      "end_station_name            object\n",
      "end_station_latitude       float64\n",
      "end_station_longitude      float64\n",
      "bike_id                      int64\n",
      "user_type                   object\n",
      "member_birth_year          float64\n",
      "member_gender               object\n",
      "dtype: object\n",
      "   duration_sec                start_time                  end_time  \\\n",
      "0         80110  2017-12-31 16:57:39.6540  2018-01-01 15:12:50.2450   \n",
      "1         78800  2017-12-31 15:56:34.8420  2018-01-01 13:49:55.6170   \n",
      "2         45768  2017-12-31 22:45:48.4110  2018-01-01 11:28:36.8830   \n",
      "3         62172  2017-12-31 17:31:10.6360  2018-01-01 10:47:23.5310   \n",
      "4         43603  2017-12-31 14:23:14.0010  2018-01-01 02:29:57.5710   \n",
      "\n",
      "   start_station_id                                 start_station_name  \\\n",
      "0                74                              Laguna St at Hayes St   \n",
      "1               284  Yerba Buena Center for the Arts (Howard St at ...   \n",
      "2               245                             Downtown Berkeley BART   \n",
      "3                60                               8th St at Ringold St   \n",
      "4               239                      Bancroft Way at Telegraph Ave   \n",
      "\n",
      "   start_station_latitude  start_station_longitude  end_station_id  \\\n",
      "0               37.776435              -122.426244              43   \n",
      "1               37.784872              -122.400876              96   \n",
      "2               37.870348              -122.267764             245   \n",
      "3               37.774520              -122.409449               5   \n",
      "4               37.868813              -122.258764             247   \n",
      "\n",
      "                                    end_station_name  end_station_latitude  \\\n",
      "0  San Francisco Public Library (Grove St at Hyde...             37.778768   \n",
      "1                              Dolores St at 15th St             37.766210   \n",
      "2                             Downtown Berkeley BART             37.870348   \n",
      "3       Powell St BART Station (Market St at 5th St)             37.783899   \n",
      "4                          Fulton St at Bancroft Way             37.867789   \n",
      "\n",
      "   end_station_longitude  bike_id   user_type  member_birth_year member_gender  \n",
      "0            -122.415929       96    Customer             1987.0          Male  \n",
      "1            -122.426614       88    Customer             1965.0        Female  \n",
      "2            -122.267764     1094    Customer                NaN           NaN  \n",
      "3            -122.408445     2831    Customer                NaN           NaN  \n",
      "4            -122.265896     3167  Subscriber             1997.0        Female  \n"
     ]
    }
   ],
   "source": [
    "# load in the dataset \n",
    "fordgo2017 = pd.read_csv(\"2017-fordgobike-tripdata.csv\")\n",
    "print(fordgo2017.shape)\n",
    "print(fordgo2017.dtypes)\n",
    "print(fordgo2017.head(5))"
   ]
  },
  {
   "cell_type": "code",
   "execution_count": 228,
   "metadata": {
    "scrolled": true
   },
   "outputs": [],
   "source": [
    "## drop the rows that have null Value\n",
    "fordgo2017 = fordgo2017.dropna()\n",
    "fordgo2017 = fordgo2017.reset_index(drop=True)"
   ]
  },
  {
   "cell_type": "code",
   "execution_count": 229,
   "metadata": {
    "scrolled": true
   },
   "outputs": [],
   "source": [
    "# convert member_birth_year datatype to integer\n",
    "fordgo2017['member_birth_year'] = fordgo2017.member_birth_year.astype('int')"
   ]
  },
  {
   "cell_type": "code",
   "execution_count": 230,
   "metadata": {},
   "outputs": [],
   "source": [
    "# calculate and create a new variable \"distance\" to contain distance by using latitude and longitude\n",
    "from math import sin, cos, sqrt, atan2,radians\n",
    "def calculate_distance(df):\n",
    "    R = 6373.0\n",
    "\n",
    "    lat1 = radians(df['start_station_latitude'])\n",
    "    lon1 = radians(df['start_station_longitude'])\n",
    "    lat2 = radians(df['end_station_latitude'])\n",
    "    lon2 = radians(df['end_station_longitude'])\n",
    "\n",
    "    dlon = lon2 - lon1\n",
    "    dlat = lat2 - lat1\n",
    "    a = (sin(dlat/2))**2 + cos(lat1) * cos(lat2) * (sin(dlon/2))**2\n",
    "    c = 2 * atan2(sqrt(a), sqrt(1-a))\n",
    "    distance = R * c \n",
    "    return distance\n",
    "\n",
    "fordgo2017 ['distance'] = fordgo2017.apply(calculate_distance,axis=1)\n"
   ]
  },
  {
   "cell_type": "code",
   "execution_count": 231,
   "metadata": {},
   "outputs": [],
   "source": [
    "# create and calculate a new column \"member_age\" by using the year when the data was recorded and memeber_birth_year\n",
    "fordgo2017['member_age'] = 2017 - fordgo2017['member_birth_year']"
   ]
  },
  {
   "cell_type": "code",
   "execution_count": 232,
   "metadata": {},
   "outputs": [],
   "source": [
    "#convert member_gender and user_type to category datatype\n",
    "fordgo2017['user_type'] = fordgo2017.user_type.astype('category')\n",
    "fordgo2017['member_gender'] = fordgo2017.member_gender.astype('category')"
   ]
  },
  {
   "cell_type": "code",
   "execution_count": 233,
   "metadata": {},
   "outputs": [
    {
     "name": "stderr",
     "output_type": "stream",
     "text": [
      "/Users/chunanlin/anaconda3/lib/python3.6/site-packages/ipykernel/__main__.py:15: FutureWarning: specifying 'categories' or 'ordered' in .astype() is deprecated; pass a CategoricalDtype instead\n"
     ]
    }
   ],
   "source": [
    "#categorized and create a new variable \"age_group\" based on different ages\n",
    "age_group_order = ['Under 18','18-35','36-55','Over 55']\n",
    "def age_grouped(df):\n",
    "    if df['member_age']>=0 and df['member_age']<=17:\n",
    "        age_group = 'Under 18'\n",
    "    if df['member_age']>=18 and df['member_age']<=35:\n",
    "        age_group = '18-35'\n",
    "    if df['member_age']>=36 and df['member_age']<=55:\n",
    "        age_group = '36-55'\n",
    "    if df['member_age']>55:\n",
    "        age_group ='Over 55'\n",
    "    return age_group\n",
    "\n",
    "fordgo2017['age_group'] = fordgo2017.apply(age_grouped,axis=1)\n",
    "fordgo2017['age_group'] = fordgo2017.age_group.astype('category',ordered=True, categories = age_group_order)"
   ]
  },
  {
   "cell_type": "code",
   "execution_count": 234,
   "metadata": {
    "scrolled": true
   },
   "outputs": [
    {
     "data": {
      "text/html": [
       "<div>\n",
       "<style scoped>\n",
       "    .dataframe tbody tr th:only-of-type {\n",
       "        vertical-align: middle;\n",
       "    }\n",
       "\n",
       "    .dataframe tbody tr th {\n",
       "        vertical-align: top;\n",
       "    }\n",
       "\n",
       "    .dataframe thead th {\n",
       "        text-align: right;\n",
       "    }\n",
       "</style>\n",
       "<table border=\"1\" class=\"dataframe\">\n",
       "  <thead>\n",
       "    <tr style=\"text-align: right;\">\n",
       "      <th></th>\n",
       "      <th>duration_sec</th>\n",
       "      <th>start_time</th>\n",
       "      <th>end_time</th>\n",
       "      <th>start_station_id</th>\n",
       "      <th>start_station_name</th>\n",
       "      <th>start_station_latitude</th>\n",
       "      <th>start_station_longitude</th>\n",
       "      <th>end_station_id</th>\n",
       "      <th>end_station_name</th>\n",
       "      <th>end_station_latitude</th>\n",
       "      <th>end_station_longitude</th>\n",
       "      <th>bike_id</th>\n",
       "      <th>user_type</th>\n",
       "      <th>member_birth_year</th>\n",
       "      <th>member_gender</th>\n",
       "      <th>distance</th>\n",
       "      <th>member_age</th>\n",
       "      <th>age_group</th>\n",
       "    </tr>\n",
       "  </thead>\n",
       "  <tbody>\n",
       "  </tbody>\n",
       "</table>\n",
       "</div>"
      ],
      "text/plain": [
       "Empty DataFrame\n",
       "Columns: [duration_sec, start_time, end_time, start_station_id, start_station_name, start_station_latitude, start_station_longitude, end_station_id, end_station_name, end_station_latitude, end_station_longitude, bike_id, user_type, member_birth_year, member_gender, distance, member_age, age_group]\n",
       "Index: []"
      ]
     },
     "execution_count": 234,
     "metadata": {},
     "output_type": "execute_result"
    }
   ],
   "source": [
    "# check duplicated row\n",
    "fordgo2017[fordgo2017.duplicated()]"
   ]
  },
  {
   "cell_type": "code",
   "execution_count": 235,
   "metadata": {},
   "outputs": [
    {
     "data": {
      "text/plain": [
       "array([0.94322716, 3.07069076, 0.63653914, ..., 6.4961736 , 0.46762906,\n",
       "       3.74361352])"
      ]
     },
     "execution_count": 235,
     "metadata": {},
     "output_type": "execute_result"
    }
   ],
   "source": [
    "fordgo2017.distance.unique()"
   ]
  },
  {
   "cell_type": "code",
   "execution_count": 236,
   "metadata": {
    "scrolled": true
   },
   "outputs": [
    {
     "data": {
      "text/html": [
       "<div>\n",
       "<style scoped>\n",
       "    .dataframe tbody tr th:only-of-type {\n",
       "        vertical-align: middle;\n",
       "    }\n",
       "\n",
       "    .dataframe tbody tr th {\n",
       "        vertical-align: top;\n",
       "    }\n",
       "\n",
       "    .dataframe thead th {\n",
       "        text-align: right;\n",
       "    }\n",
       "</style>\n",
       "<table border=\"1\" class=\"dataframe\">\n",
       "  <thead>\n",
       "    <tr style=\"text-align: right;\">\n",
       "      <th></th>\n",
       "      <th>duration_sec</th>\n",
       "      <th>start_station_id</th>\n",
       "      <th>start_station_latitude</th>\n",
       "      <th>start_station_longitude</th>\n",
       "      <th>end_station_id</th>\n",
       "      <th>end_station_latitude</th>\n",
       "      <th>end_station_longitude</th>\n",
       "      <th>bike_id</th>\n",
       "      <th>member_birth_year</th>\n",
       "      <th>distance</th>\n",
       "      <th>member_age</th>\n",
       "    </tr>\n",
       "  </thead>\n",
       "  <tbody>\n",
       "    <tr>\n",
       "      <th>count</th>\n",
       "      <td>453159.000000</td>\n",
       "      <td>453159.000000</td>\n",
       "      <td>453159.000000</td>\n",
       "      <td>453159.000000</td>\n",
       "      <td>453159.000000</td>\n",
       "      <td>453159.000000</td>\n",
       "      <td>453159.000000</td>\n",
       "      <td>453159.000000</td>\n",
       "      <td>453159.000000</td>\n",
       "      <td>453159.000000</td>\n",
       "      <td>453159.000000</td>\n",
       "    </tr>\n",
       "    <tr>\n",
       "      <th>mean</th>\n",
       "      <td>832.934014</td>\n",
       "      <td>95.046132</td>\n",
       "      <td>37.771968</td>\n",
       "      <td>-122.364093</td>\n",
       "      <td>91.854907</td>\n",
       "      <td>37.772090</td>\n",
       "      <td>-122.363274</td>\n",
       "      <td>1680.628285</td>\n",
       "      <td>1980.404787</td>\n",
       "      <td>1.599837</td>\n",
       "      <td>36.595213</td>\n",
       "    </tr>\n",
       "    <tr>\n",
       "      <th>std</th>\n",
       "      <td>2525.280717</td>\n",
       "      <td>84.578497</td>\n",
       "      <td>0.084914</td>\n",
       "      <td>0.104240</td>\n",
       "      <td>83.053529</td>\n",
       "      <td>0.084811</td>\n",
       "      <td>0.103723</td>\n",
       "      <td>972.828314</td>\n",
       "      <td>10.513488</td>\n",
       "      <td>0.983844</td>\n",
       "      <td>10.513488</td>\n",
       "    </tr>\n",
       "    <tr>\n",
       "      <th>min</th>\n",
       "      <td>61.000000</td>\n",
       "      <td>3.000000</td>\n",
       "      <td>37.317298</td>\n",
       "      <td>-122.444293</td>\n",
       "      <td>3.000000</td>\n",
       "      <td>37.317298</td>\n",
       "      <td>-122.444293</td>\n",
       "      <td>10.000000</td>\n",
       "      <td>1886.000000</td>\n",
       "      <td>0.000000</td>\n",
       "      <td>18.000000</td>\n",
       "    </tr>\n",
       "    <tr>\n",
       "      <th>25%</th>\n",
       "      <td>364.000000</td>\n",
       "      <td>25.000000</td>\n",
       "      <td>37.773492</td>\n",
       "      <td>-122.411726</td>\n",
       "      <td>24.000000</td>\n",
       "      <td>37.773793</td>\n",
       "      <td>-122.409851</td>\n",
       "      <td>795.000000</td>\n",
       "      <td>1974.000000</td>\n",
       "      <td>0.920679</td>\n",
       "      <td>29.000000</td>\n",
       "    </tr>\n",
       "    <tr>\n",
       "      <th>50%</th>\n",
       "      <td>556.000000</td>\n",
       "      <td>67.000000</td>\n",
       "      <td>37.782411</td>\n",
       "      <td>-122.398525</td>\n",
       "      <td>66.000000</td>\n",
       "      <td>37.782411</td>\n",
       "      <td>-122.397405</td>\n",
       "      <td>1739.000000</td>\n",
       "      <td>1983.000000</td>\n",
       "      <td>1.408404</td>\n",
       "      <td>34.000000</td>\n",
       "    </tr>\n",
       "    <tr>\n",
       "      <th>75%</th>\n",
       "      <td>838.000000</td>\n",
       "      <td>138.000000</td>\n",
       "      <td>37.795392</td>\n",
       "      <td>-122.391034</td>\n",
       "      <td>134.000000</td>\n",
       "      <td>37.795392</td>\n",
       "      <td>-122.391034</td>\n",
       "      <td>2530.000000</td>\n",
       "      <td>1988.000000</td>\n",
       "      <td>2.073144</td>\n",
       "      <td>43.000000</td>\n",
       "    </tr>\n",
       "    <tr>\n",
       "      <th>max</th>\n",
       "      <td>86252.000000</td>\n",
       "      <td>340.000000</td>\n",
       "      <td>37.880222</td>\n",
       "      <td>-121.874119</td>\n",
       "      <td>340.000000</td>\n",
       "      <td>37.880222</td>\n",
       "      <td>-121.874119</td>\n",
       "      <td>3733.000000</td>\n",
       "      <td>1999.000000</td>\n",
       "      <td>62.313237</td>\n",
       "      <td>131.000000</td>\n",
       "    </tr>\n",
       "  </tbody>\n",
       "</table>\n",
       "</div>"
      ],
      "text/plain": [
       "        duration_sec  start_station_id  start_station_latitude  \\\n",
       "count  453159.000000     453159.000000           453159.000000   \n",
       "mean      832.934014         95.046132               37.771968   \n",
       "std      2525.280717         84.578497                0.084914   \n",
       "min        61.000000          3.000000               37.317298   \n",
       "25%       364.000000         25.000000               37.773492   \n",
       "50%       556.000000         67.000000               37.782411   \n",
       "75%       838.000000        138.000000               37.795392   \n",
       "max     86252.000000        340.000000               37.880222   \n",
       "\n",
       "       start_station_longitude  end_station_id  end_station_latitude  \\\n",
       "count            453159.000000   453159.000000         453159.000000   \n",
       "mean               -122.364093       91.854907             37.772090   \n",
       "std                   0.104240       83.053529              0.084811   \n",
       "min                -122.444293        3.000000             37.317298   \n",
       "25%                -122.411726       24.000000             37.773793   \n",
       "50%                -122.398525       66.000000             37.782411   \n",
       "75%                -122.391034      134.000000             37.795392   \n",
       "max                -121.874119      340.000000             37.880222   \n",
       "\n",
       "       end_station_longitude        bike_id  member_birth_year       distance  \\\n",
       "count          453159.000000  453159.000000      453159.000000  453159.000000   \n",
       "mean             -122.363274    1680.628285        1980.404787       1.599837   \n",
       "std                 0.103723     972.828314          10.513488       0.983844   \n",
       "min              -122.444293      10.000000        1886.000000       0.000000   \n",
       "25%              -122.409851     795.000000        1974.000000       0.920679   \n",
       "50%              -122.397405    1739.000000        1983.000000       1.408404   \n",
       "75%              -122.391034    2530.000000        1988.000000       2.073144   \n",
       "max              -121.874119    3733.000000        1999.000000      62.313237   \n",
       "\n",
       "          member_age  \n",
       "count  453159.000000  \n",
       "mean       36.595213  \n",
       "std        10.513488  \n",
       "min        18.000000  \n",
       "25%        29.000000  \n",
       "50%        34.000000  \n",
       "75%        43.000000  \n",
       "max       131.000000  "
      ]
     },
     "execution_count": 236,
     "metadata": {},
     "output_type": "execute_result"
    }
   ],
   "source": [
    "fordgo2017.describe()"
   ]
  },
  {
   "cell_type": "markdown",
   "metadata": {},
   "source": [
    "### What is the structure of your dataset?\n",
    "There are 45,3159 individual rides records with multiple features(duration_sec, start_time, end_time,start_station and end_station(id,name,longtitude,latitude), member(birth_year,gender,user_type)). Some main features such as distance and age are numeric. Other features such as member_gender, age_group and user_type are categorical. \n",
    "\n",
    "member_gender : Male, Female, Other <br>\n",
    "user_type: Customer, Subscriber <br>\n",
    "age_group(younger to older): Under 18, 18-35, 36-55, Over 55<br>\n",
    "\n",
    "### What is/are the main feature(s) of interest in your dataset?\n",
    "\n",
    "My interests can be divided into the following three questions:<br>\n",
    "- `Q1`what age group of users are the most common in the Ford GoBike System in 2017 comparing between female and male gender?\n",
    "- `Q2`what feature are the best for predicting the duration of a ride?\n",
    "- `Q3`what is the most visited station in customer group or subscriber group?\n",
    "\n",
    "### What features in the dataset do you think will help support your investigation into your feature(s) of interest?\n",
    "\n",
    "Categorical variables such as age_group, member_gender and user_type will help me to count and  calculate how many rides or average time in each age group or gender. My assumption is that younger group (mostly between 18 and 35) are the most common users for Ford GoBike System and has the most average duration and distance in both male and female gender. The distance and age are main features to predict the duration of travel."
   ]
  },
  {
   "cell_type": "markdown",
   "metadata": {},
   "source": [
    "## Univariate Exploration\n",
    "\n",
    "> In this section, investigate distributions of individual variables. If\n",
    "you see unusual points or outliers, take a deeper look to clean things up\n",
    "and prepare yourself to look at relationships between variables."
   ]
  },
  {
   "cell_type": "code",
   "execution_count": 237,
   "metadata": {},
   "outputs": [
    {
     "data": {
      "image/png": "[encoded data removed]",
      "text/plain": [
       "<Figure size 432x288 with 1 Axes>"
      ]
     },
     "metadata": {},
     "output_type": "display_data"
    }
   ],
   "source": [
    "# standard-plot member age distribution \n",
    "bin_x = np.arange(0,fordgo2017.member_age.max()+10,10)\n",
    "plt.hist(data=fordgo2017, x = 'member_age',bins=bin_x);\n",
    "plt.xlabel('member age')\n",
    "plt.ylabel('count');"
   ]
  },
  {
   "cell_type": "code",
   "execution_count": 238,
   "metadata": {},
   "outputs": [
    {
     "data": {
      "image/png": "[encoded data removed]",
      "text/plain": [
       "<Figure size 432x288 with 1 Axes>"
      ]
     },
     "metadata": {},
     "output_type": "display_data"
    }
   ],
   "source": [
    "# plot member age in a smaller bin size to show more detail\n",
    "bin_x = np.arange(0,fordgo2017.member_age.max()+1,1)\n",
    "plt.hist(data=fordgo2017, x = 'member_age',bins=bin_x);\n",
    "plt.xlabel('member age')\n",
    "plt.ylabel('count');"
   ]
  },
  {
   "cell_type": "markdown",
   "metadata": {},
   "source": [
    "#### Member Age\n",
    "- As shown above, Member Age has a right-skewed and roughly unimodal distribution. The high peaks  are between age 20 and 40. Some small peeks also appear in between 100 and 120, which is unnormal. "
   ]
  },
  {
   "cell_type": "code",
   "execution_count": 239,
   "metadata": {},
   "outputs": [
    {
     "data": {
      "text/plain": [
       "array([117, 115, 106, 110, 116, 131])"
      ]
     },
     "execution_count": 239,
     "metadata": {},
     "output_type": "execute_result"
    }
   ],
   "source": [
    "# observe data where birth year is over 100\n",
    "fordgo2017[fordgo2017.member_age>=100].member_age.unique()"
   ]
  },
  {
   "cell_type": "code",
   "execution_count": 240,
   "metadata": {},
   "outputs": [],
   "source": [
    "# remove data where member birth year is 1900\n",
    "fordgo2017 = fordgo2017[fordgo2017.member_age<100]"
   ]
  },
  {
   "cell_type": "code",
   "execution_count": 241,
   "metadata": {
    "scrolled": true
   },
   "outputs": [
    {
     "data": {
      "image/png": "[encoded data removed]",
      "text/plain": [
       "<Figure size 432x288 with 1 Axes>"
      ]
     },
     "metadata": {},
     "output_type": "display_data"
    }
   ],
   "source": [
    "# re-plot the member age again\n",
    "bin_x = np.arange(0,fordgo2017.member_age.max()+1,1)\n",
    "plt.hist(data=fordgo2017, x = 'member_age',bins=bin_x);\n",
    "plt.xlabel('member age')\n",
    "plt.ylabel('count');"
   ]
  },
  {
   "cell_type": "markdown",
   "metadata": {},
   "source": [
    "As shown above, this is the histogram of member age after removing data where age is over 100"
   ]
  },
  {
   "cell_type": "code",
   "execution_count": 242,
   "metadata": {
    "scrolled": true
   },
   "outputs": [
    {
     "data": {
      "image/png": "[encoded data removed]",
      "text/plain": [
       "<Figure size 720x360 with 1 Axes>"
      ]
     },
     "metadata": {},
     "output_type": "display_data"
    }
   ],
   "source": [
    "# plot travel distance\n",
    "plt.figure(figsize=(10,5))\n",
    "bin_x = np.arange(0,fordgo2017.distance.max()+0.1,0.1)\n",
    "plt.hist(data=fordgo2017, x='distance',bins=bin_x)\n",
    "plt.xlim(0,10)\n",
    "plt.xlabel('travel distance(km)')\n",
    "plt.ylabel('count');"
   ]
  },
  {
   "cell_type": "code",
   "execution_count": 243,
   "metadata": {},
   "outputs": [
    {
     "data": {
      "image/png": "[encoded data removed]",
      "text/plain": [
       "<Figure size 720x360 with 1 Axes>"
      ]
     },
     "metadata": {},
     "output_type": "display_data"
    }
   ],
   "source": [
    "# plot travel distance in a smaller bin size and put a log scale on x axis\n",
    "plt.figure(figsize=(10,5))\n",
    "xticks=[0.1,0.2,0.5,1,2,5,10]\n",
    "bin_x = 10**np.arange(-2,np.log10(fordgo2017.distance.max())+0.025,0.025)\n",
    "plt.hist(data=fordgo2017, x='distance',bins=bin_x)\n",
    "plt.xscale('log')\n",
    "plt.xlim(0.5,10)\n",
    "plt.xticks(xticks,xticks)\n",
    "plt.xlabel('travel distance(km)')\n",
    "plt.ylabel('count');"
   ]
  },
  {
   "cell_type": "markdown",
   "metadata": {},
   "source": [
    "#### Travel Distance\n",
    "- As shown above, without putting a log scale on the x axis, the distance(km) has a right-skewed, roughly unimodall and ong-tailed distribution with roughly 10000 records of 0km travel distance. After putting a log scale on the x axis, the distance(km) has a better unimodal distribution. The most frequent travel distance is between 1km and 2km"
   ]
  },
  {
   "cell_type": "code",
   "execution_count": 244,
   "metadata": {},
   "outputs": [
    {
     "data": {
      "text/plain": [
       "10116"
      ]
     },
     "execution_count": 244,
     "metadata": {},
     "output_type": "execute_result"
    }
   ],
   "source": [
    "# observe data where travel distance is 0\n",
    "(fordgo2017.distance ==0).sum()"
   ]
  },
  {
   "cell_type": "code",
   "execution_count": 245,
   "metadata": {},
   "outputs": [],
   "source": [
    "# remove data where travel distance is 0\n",
    "fordgo2017 = fordgo2017[fordgo2017.distance !=0]"
   ]
  },
  {
   "cell_type": "code",
   "execution_count": 247,
   "metadata": {
    "scrolled": true
   },
   "outputs": [
    {
     "data": {
      "image/png": "[encoded data removed]",
      "text/plain": [
       "<Figure size 720x360 with 1 Axes>"
      ]
     },
     "metadata": {},
     "output_type": "display_data"
    }
   ],
   "source": [
    "# re-plot travel distance again without a log scale\n",
    "plt.figure(figsize=(10,5))\n",
    "bin_x = np.arange(0,fordgo2017.distance.max()+0.1,0.1)\n",
    "plt.hist(data=fordgo2017, x='distance',bins=bin_x)\n",
    "plt.xlim(0,10)\n",
    "plt.xlabel('travel distance(km)')\n",
    "plt.ylabel('count');"
   ]
  },
  {
   "cell_type": "markdown",
   "metadata": {},
   "source": [
    "As shown above, this is the histogram of travel distance after removing data where there is invalid travel distance 0."
   ]
  },
  {
   "cell_type": "code",
   "execution_count": 248,
   "metadata": {},
   "outputs": [
    {
     "data": {
      "text/plain": [
       "(0, 20000)"
      ]
     },
     "execution_count": 248,
     "metadata": {},
     "output_type": "execute_result"
    },
    {
     "data": {
      "image/png": "[encoded data removed]",
      "text/plain": [
       "<Figure size 720x360 with 1 Axes>"
      ]
     },
     "metadata": {},
     "output_type": "display_data"
    }
   ],
   "source": [
    "# standard-plot duration\n",
    "bin_x = np.arange(0,fordgo2017.duration_sec.max()+100,100)\n",
    "plt.figure(figsize=(10,5))\n",
    "plt.hist(data=fordgo2017, x='duration_sec',bins=bin_x)\n",
    "plt.xlim(0,20000)"
   ]
  },
  {
   "cell_type": "code",
   "execution_count": 249,
   "metadata": {
    "scrolled": false
   },
   "outputs": [
    {
     "data": {
      "image/png": "[encoded data removed]",
      "text/plain": [
       "<Figure size 720x360 with 1 Axes>"
      ]
     },
     "metadata": {},
     "output_type": "display_data"
    }
   ],
   "source": [
    "# plot duration(sec) with a log scale on x axis\n",
    "xticks = [100,200,500,1000,2000,5000,10000,20000,50000,100000]\n",
    "bin_x = 10**np.arange(1.78,np.log10(fordgo2017.duration_sec.max())+0.02,0.02)\n",
    "plt.figure(figsize=(10,5))\n",
    "plt.hist(data=fordgo2017, x='duration_sec',bins=bin_x);\n",
    "plt.xscale('log')\n",
    "plt.xticks(xticks,xticks)\n",
    "plt.xlabel('duration(sec)')\n",
    "plt.ylabel('count');"
   ]
  },
  {
   "cell_type": "code",
   "execution_count": 250,
   "metadata": {},
   "outputs": [
    {
     "data": {
      "image/png": "[encoded data removed]",
      "text/plain": [
       "<Figure size 720x360 with 1 Axes>"
      ]
     },
     "metadata": {},
     "output_type": "display_data"
    }
   ],
   "source": [
    "# observe the distribution on the right long tail (5000,100000)as shown above\n",
    "xticks = [5000,10000,20000,50000,100000]\n",
    "bin_x = 10**np.arange(3.6,np.log10(fordgo2017.duration_sec.max())+0.01,0.01)\n",
    "plt.figure(figsize=(10,5))\n",
    "plt.hist(data=fordgo2017, x='duration_sec',bins=bin_x);\n",
    "plt.xscale('log')\n",
    "plt.xticks(xticks,xticks)\n",
    "plt.xlabel('duration(sec)')\n",
    "plt.ylabel('count')\n",
    "plt.xlim(5000,100000);"
   ]
  },
  {
   "cell_type": "markdown",
   "metadata": {},
   "source": [
    "#### Travel Duration\n",
    "- As shown above, putting a log scale on the x axis, the Travel Duration is roughly unimodal and has a long tail between 5000 and 100000. Observing further on the long tail range of data, the frequency of duration is generally decreasing along the increasing duration value. It stops between 80000 seconds and 90000 seconds, which is nearly between 22 hours and 25 hours."
   ]
  },
  {
   "cell_type": "code",
   "execution_count": 251,
   "metadata": {},
   "outputs": [
    {
     "data": {
      "text/plain": [
       "<matplotlib.axes._subplots.AxesSubplot at 0x1a3993b978>"
      ]
     },
     "execution_count": 251,
     "metadata": {},
     "output_type": "execute_result"
    },
    {
     "data": {
      "image/png": "[encoded data removed]",
      "text/plain": [
       "<Figure size 720x720 with 3 Axes>"
      ]
     },
     "metadata": {},
     "output_type": "display_data"
    }
   ],
   "source": [
    "fig, ax = plt.subplots(nrows=3,figsize=[10,10])\n",
    "base_color = sb.color_palette()[1]\n",
    "sb.countplot(data=fordgo2017, x='user_type',color=base_color,ax=ax[0])\n",
    "sb.countplot(data=fordgo2017, x='member_gender',color=base_color,ax=ax[1])\n",
    "sb.countplot(data=fordgo2017, x='age_group',color=base_color,ax=ax[2])"
   ]
  },
  {
   "cell_type": "markdown",
   "metadata": {},
   "source": [
    "#### User Type\n",
    "- The subscriber-type users hold a large proportion of the count of users\n",
    "\n",
    "#### Member Gender\n",
    "- The Male users hold a large proportion of the count of users.\n",
    "\n",
    "#### Age Group\n",
    "- There is no user in age group \"Under 18\"\n",
    "- Besides \"Under 18\" age group, there is a decreasing trend of user counts as it comes to an elder age group "
   ]
  },
  {
   "cell_type": "markdown",
   "metadata": {},
   "source": [
    "> Make sure that, after every plot or related series of plots, that you\n",
    "include a Markdown cell with comments about what you observed, and what\n",
    "you plan on investigating next."
   ]
  },
  {
   "cell_type": "code",
   "execution_count": 253,
   "metadata": {},
   "outputs": [],
   "source": [
    "## After adjusting the data, reset index\n",
    "fordgo2017 = fordgo2017.reset_index(drop=True)"
   ]
  },
  {
   "cell_type": "markdown",
   "metadata": {},
   "source": [
    "### Discuss the distribution(s) of your variable(s) of interest. Were there any unusual points? Did you need to perform any transformations?\n",
    "\n",
    "- Travel Duration took on a large scale of value. So I used log transformation on the x scale. After transformation, the distribution becomes unimodal and normally distributed,except for a long tail between 5000 and 100000 seconds.\n",
    "\n",
    "### Of the features you investigated, were there any unusual distributions? Did you perform any operations on the data to tidy, adjust, or change the form of the data? If so, why did you do this?\n",
    "\n",
    "- `Member age` has an unnormal range of age between 100 and 120. The reason may be that when users filled in their personal information, they accidentally fill thier birth year by default(1900) or choose other birth year by mistake. I decided to remove the data where the age is over 100 since the age range is far beyond the `age_group` I created.\n",
    "\n",
    "- `Travel distance` has invalid value in over 10000 data rows. The reason may be that users may start the trip by accident without continuing or suddenly decide not to ride when it started. I decided to remove the data since it will be invalid in the visualization.\n",
    "\n",
    "- `duration_sec` has an unusual range as shown in the histogram above, the end value shows someone is biking for between 22 hours and 25 hours. The reason may be that some users are borrowing the bike overnight. However, it is safe to keep the data since the duration won't influence other variables and the distance is calculated by using latitude and longitude."
   ]
  },
  {
   "cell_type": "markdown",
   "metadata": {},
   "source": [
    "## Bivariate Exploration\n",
    "\n",
    "> In this section, investigate relationships between pairs of variables in your\n",
    "data. Make sure the variables that you cover here have been introduced in some\n",
    "fashion in the previous section (univariate exploration)."
   ]
  },
  {
   "cell_type": "code",
   "execution_count": 265,
   "metadata": {},
   "outputs": [
    {
     "data": {
      "text/plain": [
       "(0, 17.5)"
      ]
     },
     "execution_count": 265,
     "metadata": {},
     "output_type": "execute_result"
    },
    {
     "data": {
      "image/png": "[encoded data removed]",
      "text/plain": [
       "<Figure size 432x288 with 1 Axes>"
      ]
     },
     "metadata": {},
     "output_type": "display_data"
    }
   ],
   "source": [
    "# plot scatterplot between distance and duration\n",
    "xticks = [100,200,500,1000,2000,5000,10000,20000,50000,100000]\n",
    "sb.regplot(data=fordgo2017, x='duration_sec',y='distance',scatter_kws={'alpha' :1/20},fit_reg=False ,y_jitter=0.3)\n",
    "plt.xscale('log')\n",
    "plt.xticks(xticks,xticks);\n",
    "plt.xlim(60,5000)\n",
    "plt.ylim(0,17.5)"
   ]
  },
  {
   "cell_type": "code",
   "execution_count": null,
   "metadata": {},
   "outputs": [],
   "source": [
    "# plot heatmap between distance and duration\n"
   ]
  },
  {
   "cell_type": "markdown",
   "metadata": {},
   "source": [
    "### Talk about some of the relationships you observed in this part of the investigation. How did the feature(s) of interest vary with other features in the dataset?\n",
    "\n",
    "> Your answer here!\n",
    "\n",
    "### Did you observe any interesting relationships between the other features (not the main feature(s) of interest)?\n",
    "\n",
    "> Your answer here!"
   ]
  },
  {
   "cell_type": "markdown",
   "metadata": {},
   "source": [
    "## Multivariate Exploration\n",
    "\n",
    "> Create plots of three or more variables to investigate your data even\n",
    "further. Make sure that your investigations are justified, and follow from\n",
    "your work in the previous sections."
   ]
  },
  {
   "cell_type": "code",
   "execution_count": null,
   "metadata": {},
   "outputs": [],
   "source": []
  },
  {
   "cell_type": "markdown",
   "metadata": {},
   "source": [
    "### Talk about some of the relationships you observed in this part of the investigation. Were there features that strengthened each other in terms of looking at your feature(s) of interest?\n",
    "\n",
    "> Your answer here!\n",
    "\n",
    "### Were there any interesting or surprising interactions between features?\n",
    "\n",
    "> Your answer here!"
   ]
  },
  {
   "cell_type": "markdown",
   "metadata": {},
   "source": [
    "> At the end of your report, make sure that you export the notebook as an\n",
    "html file from the `File > Download as... > HTML` menu. Make sure you keep\n",
    "track of where the exported file goes, so you can put it in the same folder\n",
    "as this notebook for project submission. Also, make sure you remove all of\n",
    "the quote-formatted guide notes like this one before you finish your report!"
   ]
  },
  {
   "cell_type": "code",
   "execution_count": null,
   "metadata": {},
   "outputs": [],
   "source": []
  }
 ],
 "metadata": {
  "kernelspec": {
   "display_name": "Python [default]",
   "language": "python",
   "name": "python3"
  },
  "language_info": {
   "codemirror_mode": {
    "name": "ipython",
    "version": 3
   },
   "file_extension": ".py",
   "mimetype": "text/x-python",
   "name": "python",
   "nbconvert_exporter": "python",
   "pygments_lexer": "ipython3",
   "version": "3.6.5"
  }
 },
 "nbformat": 4,
 "nbformat_minor": 2
}
